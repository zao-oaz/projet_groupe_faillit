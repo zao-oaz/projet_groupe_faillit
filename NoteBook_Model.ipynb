{
 "cells": [
  {
   "cell_type": "markdown",
   "id": "5962ac95",
   "metadata": {},
   "source": [
    "# NoteBook Model, Prédiction Bankrupt"
   ]
  },
  {
   "cell_type": "markdown",
   "id": "63c98e04",
   "metadata": {},
   "source": [
    "Sommaire:"
   ]
  },
  {
   "cell_type": "markdown",
   "id": "714e033a",
   "metadata": {},
   "source": [
    "* [Import des Librairie et dataset](#Import-des-Librairie-et-dataset)\n",
    "* [Preprocessing](#Preprocessing)\n",
    "    * [Features selection](#Features-selection)\n",
    "* [Sélection du modèle](#Selection-du-modèle)\n",
    "    * [KNN Classifier](#KNN-Classifier)\n",
    "    * [Gradient Boosting](#Gradient-Boosting)\n",
    "    * [Decision Tree](#Decision-Tree)\n",
    "    * [MLP](#Multi-Layer-Perceptron)\n",
    "    * [Random Forest](#Random-Forest)\n",
    "    * [Bagging + Random Forest](#Bagging-+-Random-Forest)\n",
    "    * [AdaBoost + Random Forest](#AdaBoost-+-Random-Forest)\n",
    "    * [Stacking + Random-Forest,-MLP,-LR](#Stacking-+-Random-Forest,-MLP,-LR)\n",
    "* [Sélection du Model et Evaluation](#Sélection-du-Model-et-Evaluation)\n",
    "    * [roc Curve](#Roc-Curve)\n",
    "    * [Learning Curve](#Learning-Curve)\n",
    "* [Pickle et nouvelle prédiction](#Pickle-et-nouvelle-prédiction)"
   ]
  },
  {
   "cell_type": "markdown",
   "id": "5e7fa2bd",
   "metadata": {},
   "source": [
    "# Import des Librairie et dataset"
   ]
  },
  {
   "cell_type": "code",
   "execution_count": 2,
   "id": "67d524c2",
   "metadata": {},
   "outputs": [],
   "source": [
    "import numpy as np\n",
    "import pandas as pd\n",
    "\n",
    "# pd.set_option('max_columns', None)\n",
    "import pickle\n",
    "from imblearn.over_sampling import SMOTE\n",
    "from sklearn.preprocessing import StandardScaler,RobustScaler,MinMaxScaler\n",
    "from sklearn.linear_model import (SGDClassifier ,LogisticRegression)\n",
    "from sklearn.neighbors import KNeighborsClassifier\n",
    "from sklearn.tree import DecisionTreeClassifier\n",
    "from sklearn.neural_network import MLPClassifier\n",
    "from sklearn.ensemble import (RandomForestClassifier, BaggingClassifier, \n",
    "                                GradientBoostingClassifier, AdaBoostClassifier, StackingClassifier)\n",
    "from sklearn.metrics import (classification_report, confusion_matrix, \n",
    "                            f1_score,accuracy_score, precision_score, \n",
    "                             recall_score, roc_auc_score) \n",
    "from sklearn.model_selection import (train_test_split, StratifiedKFold, \n",
    "                                     RandomizedSearchCV,GridSearchCV,\n",
    "                                     learning_curve,StratifiedShuffleSplit)\n",
    "from sklearn.metrics import roc_auc_score, plot_roc_curve, roc_curve\n",
    "from imblearn.pipeline import Pipeline\n",
    "from sklearn.compose import ColumnTransformer"
   ]
  },
  {
   "cell_type": "code",
   "execution_count": 3,
   "id": "3b8fbfcf",
   "metadata": {},
   "outputs": [],
   "source": [
    "df = pd.read_csv('bankrupt.csv')"
   ]
  },
  {
   "cell_type": "code",
   "execution_count": 4,
   "id": "9ca51ce3",
   "metadata": {},
   "outputs": [
    {
     "data": {
      "text/plain": [
       "(6819, 96)"
      ]
     },
     "execution_count": 4,
     "metadata": {},
     "output_type": "execute_result"
    }
   ],
   "source": [
    "df.shape"
   ]
  },
  {
   "cell_type": "markdown",
   "id": "785e0f6c",
   "metadata": {},
   "source": [
    "# Preprocessing"
   ]
  },
  {
   "cell_type": "markdown",
   "id": "e4916ddf",
   "metadata": {},
   "source": [
    "## Features selection"
   ]
  },
  {
   "cell_type": "code",
   "execution_count": 7,
   "id": "452115b1",
   "metadata": {},
   "outputs": [],
   "source": [
    "df_corr = df.corr()['Bankrupt?'] \n",
    "golden_features_list = df.columns[abs(df_corr) > 0.15]\n",
    "df_model = df[golden_features_list]"
   ]
  },
  {
   "cell_type": "code",
   "execution_count": 8,
   "id": "957b3ec2",
   "metadata": {},
   "outputs": [
    {
     "data": {
      "text/plain": [
       "(6819, 22)"
      ]
     },
     "execution_count": 8,
     "metadata": {},
     "output_type": "execute_result"
    }
   ],
   "source": [
    "df_model.shape"
   ]
  },
  {
   "cell_type": "markdown",
   "id": "6d9443fd",
   "metadata": {},
   "source": [
    "Notre choisirons un dataset plus complet pour le modèle du mlp:"
   ]
  },
  {
   "cell_type": "code",
   "execution_count": 9,
   "id": "8fbb3ee2",
   "metadata": {},
   "outputs": [],
   "source": [
    "df_corr = df.corr()['Bankrupt?'] # \n",
    "golden_features_list = df.columns[abs(df_corr) > 0.05]\n",
    "df_mlp = df[golden_features_list]"
   ]
  },
  {
   "cell_type": "code",
   "execution_count": 10,
   "id": "d1f49f8f",
   "metadata": {},
   "outputs": [
    {
     "data": {
      "text/plain": [
       "(6819, 50)"
      ]
     },
     "execution_count": 10,
     "metadata": {},
     "output_type": "execute_result"
    }
   ],
   "source": [
    "df_mlp.shape"
   ]
  },
  {
   "cell_type": "markdown",
   "id": "ca225838",
   "metadata": {},
   "source": [
    "# Selection du modèle"
   ]
  },
  {
   "cell_type": "code",
   "execution_count": 30,
   "id": "f5d7a688",
   "metadata": {},
   "outputs": [],
   "source": [
    "y = df_model['Bankrupt?']\n",
    "X = df_model.drop('Bankrupt?', axis=1)"
   ]
  },
  {
   "cell_type": "markdown",
   "id": "b2d7fb58",
   "metadata": {},
   "source": [
    "Décommenter et utiliser la cellule du bas pour le mlp:"
   ]
  },
  {
   "cell_type": "code",
   "execution_count": 14,
   "id": "3bc7f8a6",
   "metadata": {},
   "outputs": [],
   "source": [
    "# y = df_mlp['Bankrupt?']\n",
    "# X = df_mlp.drop('Bankrupt?', axis=1)"
   ]
  },
  {
   "cell_type": "markdown",
   "id": "9b1de178",
   "metadata": {},
   "source": [
    "Split des données avec le stratifiedKfold:"
   ]
  },
  {
   "cell_type": "code",
   "execution_count": 62,
   "id": "d059b4a8",
   "metadata": {},
   "outputs": [],
   "source": [
    "sf = StratifiedKFold(n_splits=5, shuffle=True, random_state=1)\n",
    "#The folds are made by preserving the percentage of samples for each class.\n",
    "for train_index, test_index in sf.split(X,y):\n",
    "    X_train, X_test = X.iloc[train_index], X.iloc[test_index]\n",
    "    y_train, y_test = y.iloc[train_index], y.iloc[test_index]"
   ]
  },
  {
   "cell_type": "code",
   "execution_count": 13,
   "id": "ceb964d5",
   "metadata": {},
   "outputs": [],
   "source": [
    "def model_training (model,parameter,df):\n",
    "\n",
    "    # Create first pipe\n",
    "    scaler = Pipeline([\n",
    "        ('robustscaler', RobustScaler())])\n",
    "\n",
    "    preprocessor = ColumnTransformer([\n",
    "        ('scaler', scaler, df.drop('Bankrupt?', axis=1).columns)\n",
    "        ],\n",
    "        remainder='passthrough')\n",
    "\n",
    "    pipe = Pipeline([\n",
    "        ('preprocessing', preprocessor),\n",
    "        ('smote', SMOTE(sampling_strategy='minority', random_state=10)),\n",
    "        ('model', model)])\n",
    "\n",
    "    #from sklearn.model_selection import RepeatedStratifiedKFold\n",
    "\n",
    "    #cv = RepeatedStratifiedKFold(n_splits=5, n_repeats=3, random_state=1)\n",
    "    \n",
    "    parameter = parameter\n",
    "    #clf =RandomizedSearchCV(pipe,parameter,n_iter=4,cv=5,verbose=1)\n",
    "    # gridsearchCV:\n",
    "    clf =GridSearchCV(pipe,parameter,cv=5,verbose=1)\n",
    "    clf.fit(X_train,y_train)\n",
    "    best = clf.best_score_\n",
    "    print(best)\n",
    "    print(clf.best_params_)\n",
    "\n",
    "    y_pred = clf.predict(X_test)\n",
    "    print(classification_report(y_test, y_pred))\n",
    "    print(confusion_matrix(y_test, y_pred))"
   ]
  },
  {
   "cell_type": "markdown",
   "id": "38dbad93",
   "metadata": {},
   "source": [
    "## KNN Classifier"
   ]
  },
  {
   "cell_type": "code",
   "execution_count": 15,
   "id": "c1035f50",
   "metadata": {},
   "outputs": [
    {
     "name": "stdout",
     "output_type": "stream",
     "text": [
      "Fitting 5 folds for each of 12 candidates, totalling 60 fits\n",
      "0.919178056895747\n",
      "{'model__n_neighbors': 2, 'model__weights': 'uniform'}\n",
      "              precision    recall  f1-score   support\n",
      "\n",
      "           0       0.98      0.95      0.97      1319\n",
      "           1       0.21      0.36      0.26        44\n",
      "\n",
      "    accuracy                           0.93      1363\n",
      "   macro avg       0.59      0.66      0.61      1363\n",
      "weighted avg       0.95      0.93      0.94      1363\n",
      "\n",
      "[[1257   62]\n",
      " [  28   16]]\n"
     ]
    }
   ],
   "source": [
    "model_training(KNeighborsClassifier(),{'model__n_neighbors':[2,4,6,8,10,12],'model__weights':['uniform','distance']},df_model)"
   ]
  },
  {
   "cell_type": "markdown",
   "id": "42939134",
   "metadata": {},
   "source": [
    "## Gradient Boosting"
   ]
  },
  {
   "cell_type": "code",
   "execution_count": 16,
   "id": "f05ed663",
   "metadata": {},
   "outputs": [
    {
     "name": "stdout",
     "output_type": "stream",
     "text": [
      "Fitting 5 folds for each of 12 candidates, totalling 60 fits\n",
      "0.9081819952122426\n",
      "{'model__learning_rate': 0.5, 'model__n_estimators': 150}\n",
      "              precision    recall  f1-score   support\n",
      "\n",
      "           0       0.99      0.94      0.96      1319\n",
      "           1       0.25      0.66      0.37        44\n",
      "\n",
      "    accuracy                           0.93      1363\n",
      "   macro avg       0.62      0.80      0.66      1363\n",
      "weighted avg       0.96      0.93      0.94      1363\n",
      "\n",
      "[[1234   85]\n",
      " [  15   29]]\n"
     ]
    }
   ],
   "source": [
    "model_training(GradientBoostingClassifier(),{'model__n_estimators':[100,110,120,150],'model__learning_rate':[0.1,0.5,1]},df_model)"
   ]
  },
  {
   "cell_type": "markdown",
   "id": "95b16dec",
   "metadata": {},
   "source": [
    "## Decision Tree"
   ]
  },
  {
   "cell_type": "code",
   "execution_count": 17,
   "id": "48cb3022",
   "metadata": {},
   "outputs": [
    {
     "name": "stdout",
     "output_type": "stream",
     "text": [
      "Fitting 5 folds for each of 8 candidates, totalling 40 fits\n",
      "0.9048836131787553\n",
      "{'model__max_depth': None, 'model__splitter': 'best'}\n",
      "              precision    recall  f1-score   support\n",
      "\n",
      "           0       0.98      0.92      0.95      1319\n",
      "           1       0.18      0.55      0.27        44\n",
      "\n",
      "    accuracy                           0.90      1363\n",
      "   macro avg       0.58      0.73      0.61      1363\n",
      "weighted avg       0.96      0.90      0.93      1363\n",
      "\n",
      "[[1207  112]\n",
      " [  20   24]]\n"
     ]
    }
   ],
   "source": [
    "model_training(DecisionTreeClassifier(),{'model__splitter':['best','random'],\"model__max_depth\": [3, 5, 10, None]},df_model)"
   ]
  },
  {
   "cell_type": "markdown",
   "id": "827aba92",
   "metadata": {},
   "source": [
    "## Multi Layer Perceptron"
   ]
  },
  {
   "cell_type": "code",
   "execution_count": 18,
   "id": "3f76feaf",
   "metadata": {},
   "outputs": [
    {
     "name": "stdout",
     "output_type": "stream",
     "text": [
      "Fitting 5 folds for each of 1 candidates, totalling 5 fits\n",
      "0.7084151717515603\n",
      "{'model__learning_rate': 'adaptive', 'model__learning_rate_init': 0.1, 'model__max_iter': 400}\n",
      "              precision    recall  f1-score   support\n",
      "\n",
      "           0       0.99      0.73      0.84      1319\n",
      "           1       0.09      0.84      0.17        44\n",
      "\n",
      "    accuracy                           0.73      1363\n",
      "   macro avg       0.54      0.78      0.50      1363\n",
      "weighted avg       0.96      0.73      0.82      1363\n",
      "\n",
      "[[958 361]\n",
      " [  7  37]]\n"
     ]
    }
   ],
   "source": [
    "model_training(MLPClassifier(),{'model__max_iter':[300,400,500],'model__learning_rate':['adaptive'],'model__learning_rate_init':[0.1,0.5,1]},df_mlp)"
   ]
  },
  {
   "cell_type": "markdown",
   "id": "787eb4ed",
   "metadata": {},
   "source": [
    "O.23 / 0.66"
   ]
  },
  {
   "cell_type": "markdown",
   "id": "fc103d94",
   "metadata": {},
   "source": [
    "## Random Forest"
   ]
  },
  {
   "cell_type": "code",
   "execution_count": 18,
   "id": "b0fc7fab",
   "metadata": {},
   "outputs": [
    {
     "name": "stdout",
     "output_type": "stream",
     "text": [
      "Fitting 5 folds for each of 9 candidates, totalling 45 fits\n",
      "0.9061651608397712\n",
      "{'model__class_weight': 'balanced_subsample', 'model__max_depth': 10, 'model__n_estimators': 250}\n",
      "              precision    recall  f1-score   support\n",
      "\n",
      "           0       0.99      0.93      0.96      1319\n",
      "           1       0.29      0.84      0.44        44\n",
      "\n",
      "    accuracy                           0.93      1363\n",
      "   macro avg       0.64      0.89      0.70      1363\n",
      "weighted avg       0.97      0.93      0.95      1363\n",
      "\n",
      "[[1230   89]\n",
      " [   7   37]]\n"
     ]
    }
   ],
   "source": [
    "model_training(RandomForestClassifier(),{'model__n_estimators':[150,200,250],'model__class_weight':['balanced_subsample'],'model__max_depth':[1,5,10]},df_model)"
   ]
  },
  {
   "cell_type": "markdown",
   "id": "43a4fa07",
   "metadata": {},
   "source": [
    "## Bagging + Random Forest"
   ]
  },
  {
   "cell_type": "markdown",
   "id": "fe6a5603",
   "metadata": {},
   "source": [
    "This code is too long to calculate "
   ]
  },
  {
   "cell_type": "code",
   "execution_count": 6,
   "id": "3b10e13f",
   "metadata": {
    "code_folding": [
     0
    ]
   },
   "outputs": [
    {
     "name": "stdout",
     "output_type": "stream",
     "text": [
      "Fitting 5 folds for each of 1 candidates, totalling 5 fits\n",
      "0.9232087039144785\n",
      "{'model__base_estimator': RandomForestClassifier(class_weight='balanced_subsample'), 'model__n_estimators': 10}\n",
      "              precision    recall  f1-score   support\n",
      "\n",
      "           0       0.99      0.95      0.97      1319\n",
      "           1       0.35      0.77      0.48        44\n",
      "\n",
      "    accuracy                           0.95      1363\n",
      "   macro avg       0.67      0.86      0.73      1363\n",
      "weighted avg       0.97      0.95      0.96      1363\n",
      "\n",
      "[[1255   64]\n",
      " [  10   34]]\n"
     ]
    }
   ],
   "source": [
    "# model_training(BaggingClassifier(),{'model__base_estimator':[RandomForestClassifier(class_weight='balanced_subsample')],'model__n_estimators':[100,110,120]},df_model)\n"
   ]
  },
  {
   "cell_type": "markdown",
   "id": "02f84936",
   "metadata": {},
   "source": [
    "## AdaBoost + Random Forest"
   ]
  },
  {
   "cell_type": "code",
   "execution_count": 22,
   "id": "8f89e3ff",
   "metadata": {},
   "outputs": [
    {
     "name": "stdout",
     "output_type": "stream",
     "text": [
      "Fitting 5 folds for each of 2 candidates, totalling 10 fits\n",
      "0.9191757066642493\n",
      "{'model__base_estimator': RandomForestClassifier(class_weight='balanced_subsample', max_depth=10,\n",
      "                       n_estimators=250), 'model__n_estimators': 100}\n",
      "              precision    recall  f1-score   support\n",
      "\n",
      "           0       0.99      0.95      0.97      1319\n",
      "           1       0.35      0.80      0.49        44\n",
      "\n",
      "    accuracy                           0.95      1363\n",
      "   macro avg       0.67      0.87      0.73      1363\n",
      "weighted avg       0.97      0.95      0.96      1363\n",
      "\n",
      "[[1254   65]\n",
      " [   9   35]]\n"
     ]
    }
   ],
   "source": [
    "model_training(AdaBoostClassifier(),{'model__base_estimator':[RandomForestClassifier(n_estimators=250,max_depth=10,class_weight='balanced_subsample')],'model__n_estimators':[100,150]},df_model)"
   ]
  },
  {
   "cell_type": "markdown",
   "id": "e0712d01",
   "metadata": {},
   "source": [
    "## Stacking + Random Forest, MLP, LR"
   ]
  },
  {
   "cell_type": "code",
   "execution_count": 23,
   "id": "bae029dd",
   "metadata": {},
   "outputs": [],
   "source": [
    "estimators = [('rfc', RandomForestClassifier(n_estimators=250,max_depth=10,class_weight='balanced_subsample')),]"
   ]
  },
  {
   "cell_type": "code",
   "execution_count": 24,
   "id": "ecc4bd09",
   "metadata": {},
   "outputs": [
    {
     "name": "stdout",
     "output_type": "stream",
     "text": [
      "Fitting 5 folds for each of 1 candidates, totalling 5 fits\n",
      "0.9255893205480741\n",
      "{'model__final_estimator': LogisticRegression(class_weight='balanced')}\n",
      "              precision    recall  f1-score   support\n",
      "\n",
      "           0       0.99      0.95      0.97      1319\n",
      "           1       0.34      0.75      0.47        44\n",
      "\n",
      "    accuracy                           0.94      1363\n",
      "   macro avg       0.67      0.85      0.72      1363\n",
      "weighted avg       0.97      0.94      0.95      1363\n",
      "\n",
      "[[1255   64]\n",
      " [  11   33]]\n"
     ]
    }
   ],
   "source": [
    "model_training(StackingClassifier(estimators=estimators),{'model__final_estimator':[LogisticRegression(class_weight='balanced')]},df_model)"
   ]
  },
  {
   "cell_type": "markdown",
   "id": "a8e53823",
   "metadata": {},
   "source": [
    "# Sélection du Model et Evaluation"
   ]
  },
  {
   "cell_type": "markdown",
   "id": "ee42ca8e",
   "metadata": {},
   "source": [
    "## Fit du Random Forest"
   ]
  },
  {
   "cell_type": "code",
   "execution_count": 48,
   "id": "2b057827",
   "metadata": {},
   "outputs": [],
   "source": [
    "scaler = Pipeline([\n",
    "    ('robustscaler', RobustScaler())])\n",
    "\n",
    "preprocessor = ColumnTransformer([\n",
    "    ('scaler', scaler, df_model.drop('Bankrupt?', axis=1).columns)\n",
    "    ],\n",
    "    remainder='passthrough')\n",
    "\n",
    "pipe = Pipeline([\n",
    "    ('preprocessing', preprocessor),\n",
    "    ('smote', SMOTE(sampling_strategy='minority', random_state=10)),\n",
    "    ('model', RandomForestClassifier(n_estimators=250, class_weight='balanced_subsample', max_depth=10))])"
   ]
  },
  {
   "cell_type": "code",
   "execution_count": 49,
   "id": "5f9600d8",
   "metadata": {},
   "outputs": [
    {
     "name": "stdout",
     "output_type": "stream",
     "text": [
      "              precision    recall  f1-score   support\n",
      "\n",
      "           0       0.99      0.93      0.96      1319\n",
      "           1       0.29      0.82      0.43        44\n",
      "\n",
      "    accuracy                           0.93      1363\n",
      "   macro avg       0.64      0.88      0.70      1363\n",
      "weighted avg       0.97      0.93      0.95      1363\n",
      "\n",
      "[[1231   88]\n",
      " [   8   36]]\n"
     ]
    }
   ],
   "source": [
    "pipe.fit(X_train,y_train)\n",
    "\n",
    "y_pred = pipe.predict(X_test)\n",
    "print(classification_report(y_test, y_pred))\n",
    "print(confusion_matrix(y_test, y_pred))"
   ]
  },
  {
   "cell_type": "markdown",
   "id": "f72f86ce",
   "metadata": {},
   "source": [
    "## Roc Curve"
   ]
  },
  {
   "cell_type": "code",
   "execution_count": 47,
   "id": "137af68c",
   "metadata": {},
   "outputs": [
    {
     "data": {
      "image/png": "[encoded data removed]",
      "text/plain": [
       "<Figure size 432x288 with 1 Axes>"
      ]
     },
     "metadata": {
      "needs_background": "light"
     },
     "output_type": "display_data"
    }
   ],
   "source": [
    "# ROC Curve\n",
    "plot_roc_curve(pipe, X_test, y_test)\n",
    "plt.title('ROC Curve')\n",
    "plt.plot([0, 1], [0, 1], 'r--')\n",
    "plt.show()"
   ]
  },
  {
   "cell_type": "markdown",
   "id": "d029147f",
   "metadata": {},
   "source": [
    "## Learning Curve"
   ]
  },
  {
   "cell_type": "code",
   "execution_count": 57,
   "id": "b6a61a56",
   "metadata": {},
   "outputs": [],
   "source": [
    "scaler = Pipeline([\n",
    "    ('robustscaler', RobustScaler())])\n",
    "\n",
    "preprocessor = ColumnTransformer([\n",
    "    ('scaler', scaler, df_model.drop('Bankrupt?', axis=1).columns)\n",
    "    ],\n",
    "    remainder='passthrough')\n",
    "\n",
    "pipe = Pipeline([\n",
    "    ('preprocessing', preprocessor),\n",
    "    ('smote', SMOTE(sampling_strategy='minority', random_state=10,k_neighbors=1)),\n",
    "    ('model', RandomForestClassifier(n_estimators=200,class_weight='balanced_subsample',max_depth=10))])"
   ]
  },
  {
   "cell_type": "code",
   "execution_count": 58,
   "id": "c7dd4102",
   "metadata": {},
   "outputs": [],
   "source": [
    "y = df_model['Bankrupt?']\n",
    "X = df_model.drop('Bankrupt?', axis=1)"
   ]
  },
  {
   "cell_type": "code",
   "execution_count": 60,
   "id": "cf52e0e0",
   "metadata": {
    "collapsed": true
   },
   "outputs": [
    {
     "name": "stderr",
     "output_type": "stream",
     "text": [
      "C:\\Users\\mattb\\anaconda3\\lib\\site-packages\\sklearn\\model_selection\\_validation.py:610: FitFailedWarning: Estimator fit failed. The score on this train-test partition for these parameters will be set to nan. Details: \n",
      "Traceback (most recent call last):\n",
      "  File \"C:\\Users\\mattb\\anaconda3\\lib\\site-packages\\sklearn\\model_selection\\_validation.py\", line 593, in _fit_and_score\n",
      "    estimator.fit(X_train, y_train, **fit_params)\n",
      "  File \"C:\\Users\\mattb\\anaconda3\\lib\\site-packages\\imblearn\\pipeline.py\", line 262, in fit\n",
      "    Xt, yt = self._fit(X, y, **fit_params_steps)\n",
      "  File \"C:\\Users\\mattb\\anaconda3\\lib\\site-packages\\imblearn\\pipeline.py\", line 220, in _fit\n",
      "    X, y, fitted_transformer = fit_resample_one_cached(\n",
      "  File \"C:\\Users\\mattb\\anaconda3\\lib\\site-packages\\joblib\\memory.py\", line 352, in __call__\n",
      "    return self.func(*args, **kwargs)\n",
      "  File \"C:\\Users\\mattb\\anaconda3\\lib\\site-packages\\imblearn\\pipeline.py\", line 388, in _fit_resample_one\n",
      "    X_res, y_res = sampler.fit_resample(X, y, **fit_params)\n",
      "  File \"C:\\Users\\mattb\\anaconda3\\lib\\site-packages\\imblearn\\base.py\", line 79, in fit_resample\n",
      "    self.sampling_strategy_ = check_sampling_strategy(\n",
      "  File \"C:\\Users\\mattb\\anaconda3\\lib\\site-packages\\imblearn\\utils\\_validation.py\", line 501, in check_sampling_strategy\n",
      "    raise ValueError(\n",
      "ValueError: The target 'y' needs to have more than 1 class. Got 1 class instead\n",
      "\n",
      "  warnings.warn(\"Estimator fit failed. The score on this train-test\"\n",
      "C:\\Users\\mattb\\anaconda3\\lib\\site-packages\\sklearn\\model_selection\\_validation.py:610: FitFailedWarning: Estimator fit failed. The score on this train-test partition for these parameters will be set to nan. Details: \n",
      "Traceback (most recent call last):\n",
      "  File \"C:\\Users\\mattb\\anaconda3\\lib\\site-packages\\sklearn\\model_selection\\_validation.py\", line 593, in _fit_and_score\n",
      "    estimator.fit(X_train, y_train, **fit_params)\n",
      "  File \"C:\\Users\\mattb\\anaconda3\\lib\\site-packages\\imblearn\\pipeline.py\", line 262, in fit\n",
      "    Xt, yt = self._fit(X, y, **fit_params_steps)\n",
      "  File \"C:\\Users\\mattb\\anaconda3\\lib\\site-packages\\imblearn\\pipeline.py\", line 220, in _fit\n",
      "    X, y, fitted_transformer = fit_resample_one_cached(\n",
      "  File \"C:\\Users\\mattb\\anaconda3\\lib\\site-packages\\joblib\\memory.py\", line 352, in __call__\n",
      "    return self.func(*args, **kwargs)\n",
      "  File \"C:\\Users\\mattb\\anaconda3\\lib\\site-packages\\imblearn\\pipeline.py\", line 388, in _fit_resample_one\n",
      "    X_res, y_res = sampler.fit_resample(X, y, **fit_params)\n",
      "  File \"C:\\Users\\mattb\\anaconda3\\lib\\site-packages\\imblearn\\base.py\", line 83, in fit_resample\n",
      "    output = self._fit_resample(X, y)\n",
      "  File \"C:\\Users\\mattb\\anaconda3\\lib\\site-packages\\imblearn\\over_sampling\\_smote\\base.py\", line 309, in _fit_resample\n",
      "    nns = self.nn_k_.kneighbors(X_class, return_distance=False)[:, 1:]\n",
      "  File \"C:\\Users\\mattb\\anaconda3\\lib\\site-packages\\sklearn\\neighbors\\_base.py\", line 680, in kneighbors\n",
      "    raise ValueError(\n",
      "ValueError: Expected n_neighbors <= n_samples,  but n_samples = 1, n_neighbors = 2\n",
      "\n",
      "  warnings.warn(\"Estimator fit failed. The score on this train-test\"\n",
      "C:\\Users\\mattb\\anaconda3\\lib\\site-packages\\sklearn\\model_selection\\_validation.py:610: FitFailedWarning: Estimator fit failed. The score on this train-test partition for these parameters will be set to nan. Details: \n",
      "Traceback (most recent call last):\n",
      "  File \"C:\\Users\\mattb\\anaconda3\\lib\\site-packages\\sklearn\\model_selection\\_validation.py\", line 593, in _fit_and_score\n",
      "    estimator.fit(X_train, y_train, **fit_params)\n",
      "  File \"C:\\Users\\mattb\\anaconda3\\lib\\site-packages\\imblearn\\pipeline.py\", line 262, in fit\n",
      "    Xt, yt = self._fit(X, y, **fit_params_steps)\n",
      "  File \"C:\\Users\\mattb\\anaconda3\\lib\\site-packages\\imblearn\\pipeline.py\", line 220, in _fit\n",
      "    X, y, fitted_transformer = fit_resample_one_cached(\n",
      "  File \"C:\\Users\\mattb\\anaconda3\\lib\\site-packages\\joblib\\memory.py\", line 352, in __call__\n",
      "    return self.func(*args, **kwargs)\n",
      "  File \"C:\\Users\\mattb\\anaconda3\\lib\\site-packages\\imblearn\\pipeline.py\", line 388, in _fit_resample_one\n",
      "    X_res, y_res = sampler.fit_resample(X, y, **fit_params)\n",
      "  File \"C:\\Users\\mattb\\anaconda3\\lib\\site-packages\\imblearn\\base.py\", line 79, in fit_resample\n",
      "    self.sampling_strategy_ = check_sampling_strategy(\n",
      "  File \"C:\\Users\\mattb\\anaconda3\\lib\\site-packages\\imblearn\\utils\\_validation.py\", line 501, in check_sampling_strategy\n",
      "    raise ValueError(\n",
      "ValueError: The target 'y' needs to have more than 1 class. Got 1 class instead\n",
      "\n",
      "  warnings.warn(\"Estimator fit failed. The score on this train-test\"\n",
      "C:\\Users\\mattb\\anaconda3\\lib\\site-packages\\sklearn\\model_selection\\_validation.py:610: FitFailedWarning: Estimator fit failed. The score on this train-test partition for these parameters will be set to nan. Details: \n",
      "Traceback (most recent call last):\n",
      "  File \"C:\\Users\\mattb\\anaconda3\\lib\\site-packages\\sklearn\\model_selection\\_validation.py\", line 593, in _fit_and_score\n",
      "    estimator.fit(X_train, y_train, **fit_params)\n",
      "  File \"C:\\Users\\mattb\\anaconda3\\lib\\site-packages\\imblearn\\pipeline.py\", line 262, in fit\n",
      "    Xt, yt = self._fit(X, y, **fit_params_steps)\n",
      "  File \"C:\\Users\\mattb\\anaconda3\\lib\\site-packages\\imblearn\\pipeline.py\", line 220, in _fit\n",
      "    X, y, fitted_transformer = fit_resample_one_cached(\n",
      "  File \"C:\\Users\\mattb\\anaconda3\\lib\\site-packages\\joblib\\memory.py\", line 352, in __call__\n",
      "    return self.func(*args, **kwargs)\n",
      "  File \"C:\\Users\\mattb\\anaconda3\\lib\\site-packages\\imblearn\\pipeline.py\", line 388, in _fit_resample_one\n",
      "    X_res, y_res = sampler.fit_resample(X, y, **fit_params)\n",
      "  File \"C:\\Users\\mattb\\anaconda3\\lib\\site-packages\\imblearn\\base.py\", line 83, in fit_resample\n",
      "    output = self._fit_resample(X, y)\n",
      "  File \"C:\\Users\\mattb\\anaconda3\\lib\\site-packages\\imblearn\\over_sampling\\_smote\\base.py\", line 309, in _fit_resample\n",
      "    nns = self.nn_k_.kneighbors(X_class, return_distance=False)[:, 1:]\n",
      "  File \"C:\\Users\\mattb\\anaconda3\\lib\\site-packages\\sklearn\\neighbors\\_base.py\", line 680, in kneighbors\n",
      "    raise ValueError(\n",
      "ValueError: Expected n_neighbors <= n_samples,  but n_samples = 1, n_neighbors = 2\n",
      "\n",
      "  warnings.warn(\"Estimator fit failed. The score on this train-test\"\n"
     ]
    }
   ],
   "source": [
    "train_sizes, train_scores, test_scores = learning_curve(estimator = pipe,\n",
    "                                                        X = X,\n",
    "                                                        y = y,\n",
    "                                                        train_sizes = [50,100,200,300,400,600,800,1500,2000,3000,4000,4500,4700],\n",
    "                                                        cv = 5,\n",
    "                                                        scoring='recall',\n",
    "                                                        shuffle = True,\n",
    "                                                        random_state=0,\n",
    "                                                        error_score=np.nan)"
   ]
  },
  {
   "cell_type": "code",
   "execution_count": 61,
   "id": "c9ea0c87",
   "metadata": {},
   "outputs": [
    {
     "data": {
      "image/png": "[encoded data removed]",
      "text/plain": [
       "<Figure size 432x288 with 1 Axes>"
      ]
     },
     "metadata": {
      "needs_background": "light"
     },
     "output_type": "display_data"
    }
   ],
   "source": [
    "train_scores_mean = np.mean(train_scores, axis=1)\n",
    "test_scores_mean = np.mean(test_scores, axis=1)\n",
    "plt.plot(train_sizes, train_scores_mean, label = 'Training score')\n",
    "plt.plot(train_sizes, test_scores_mean, label = 'Test score')\n",
    "plt.ylabel('Recall', fontsize = 14)\n",
    "plt.xlabel('Training set size', fontsize = 14)\n",
    "plt.title('Learning curves - log model', fontsize = 18, y = 1.03)\n",
    "plt.legend()\n",
    "plt.show()"
   ]
  },
  {
   "cell_type": "markdown",
   "id": "eae5f744",
   "metadata": {},
   "source": [
    "# Pickle et nouvelle prédiction"
   ]
  },
  {
   "cell_type": "code",
   "execution_count": 63,
   "id": "a2734932",
   "metadata": {},
   "outputs": [],
   "source": [
    "# pipe.fit(X_train, y_train)\n",
    "                               \n",
    "# with open(\"model_bankrupt.pkl\", \"wb\") as file:\n",
    "#     pickle.dump(pipe, file)"
   ]
  },
  {
   "cell_type": "markdown",
   "id": "f5ebecf4",
   "metadata": {},
   "source": [
    "Ramplacer les point d'interrogations par le chemin du dataset"
   ]
  },
  {
   "cell_type": "code",
   "execution_count": null,
   "id": "2dab5d8c",
   "metadata": {},
   "outputs": [],
   "source": [
    "df_NewData = pd.read_csv('?????.csv')"
   ]
  },
  {
   "cell_type": "code",
   "execution_count": null,
   "id": "c7e26d70",
   "metadata": {},
   "outputs": [],
   "source": [
    "df_corr = df_newData.corr()['Bankrupt?'] \n",
    "golden_features_list = df.columns[abs(df_corr) > 0.15]\n",
    "df_model = df[golden_features_list]"
   ]
  },
  {
   "cell_type": "code",
   "execution_count": null,
   "id": "cebcc9d5",
   "metadata": {},
   "outputs": [],
   "source": [
    "y = df_model['Bankrupt?']\n",
    "X = df_model.drop('Bankrupt?', axis=1)"
   ]
  },
  {
   "cell_type": "code",
   "execution_count": null,
   "id": "8892db06",
   "metadata": {},
   "outputs": [],
   "source": [
    "sf = StratifiedKFold(n_splits=5, shuffle=True, random_state=1)\n",
    "#The folds are made by preserving the percentage of samples for each class.\n",
    "for train_index, test_index in sf.split(X,y):\n",
    "    X_train, X_test = X.iloc[train_index], X.iloc[test_index]\n",
    "    y_train, y_test = y.iloc[train_index], y.iloc[test_index]"
   ]
  },
  {
   "cell_type": "markdown",
   "id": "25c48a67",
   "metadata": {},
   "source": [
    "Import du pickle"
   ]
  },
  {
   "cell_type": "code",
   "execution_count": null,
   "id": "b2662a4b",
   "metadata": {},
   "outputs": [],
   "source": [
    "model = pickle.load(open(\"model_bankrupt.pkl\",\"rb\"))\n",
    "\n",
    "\n",
    "y_pred = model.predict(X_test)\n",
    "print(classification_report(y_test, y_pred))\n",
    "print(confusion_matrix(y_test, y_pred))"
   ]
  }
 ],
 "metadata": {
  "kernelspec": {
   "display_name": "Python 3",
   "language": "python",
   "name": "python3"
  },
  "language_info": {
   "codemirror_mode": {
    "name": "ipython",
    "version": 3
   },
   "file_extension": ".py",
   "mimetype": "text/x-python",
   "name": "python",
   "nbconvert_exporter": "python",
   "pygments_lexer": "ipython3",
   "version": "3.8.8"
  },
  "toc": {
   "base_numbering": 1,
   "nav_menu": {},
   "number_sections": true,
   "sideBar": true,
   "skip_h1_title": false,
   "title_cell": "Table of Contents",
   "title_sidebar": "Contents",
   "toc_cell": false,
   "toc_position": {},
   "toc_section_display": true,
   "toc_window_display": false
  },
  "varInspector": {
   "cols": {
    "lenName": 16,
    "lenType": 16,
    "lenVar": 40
   },
   "kernels_config": {
    "python": {
     "delete_cmd_postfix": "",
     "delete_cmd_prefix": "del ",
     "library": "var_list.py",
     "varRefreshCmd": "print(var_dic_list())"
    },
    "r": {
     "delete_cmd_postfix": ") ",
     "delete_cmd_prefix": "rm(",
     "library": "var_list.r",
     "varRefreshCmd": "cat(var_dic_list()) "
    }
   },
   "types_to_exclude": [
    "module",
    "function",
    "builtin_function_or_method",
    "instance",
    "_Feature"
   ],
   "window_display": false
  }
 },
 "nbformat": 4,
 "nbformat_minor": 5
}
